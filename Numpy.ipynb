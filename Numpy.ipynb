{
 "cells": [
  {
   "cell_type": "code",
   "execution_count": 74,
   "id": "5d69d888",
   "metadata": {},
   "outputs": [],
   "source": [
    "import sys"
   ]
  },
  {
   "cell_type": "code",
   "execution_count": 75,
   "id": "4985ee9a",
   "metadata": {},
   "outputs": [
    {
     "name": "stdout",
     "output_type": "stream",
     "text": [
      "3.8.8 (default, Apr 13 2021, 15:08:03) [MSC v.1916 64 bit (AMD64)]\n"
     ]
    }
   ],
   "source": [
    "print(sys.version)"
   ]
  },
  {
   "cell_type": "code",
   "execution_count": 76,
   "id": "be3edd75",
   "metadata": {},
   "outputs": [],
   "source": [
    "import platform"
   ]
  },
  {
   "cell_type": "code",
   "execution_count": 77,
   "id": "61471753",
   "metadata": {},
   "outputs": [
    {
     "data": {
      "text/plain": [
       "'3.8.8'"
      ]
     },
     "execution_count": 77,
     "metadata": {},
     "output_type": "execute_result"
    }
   ],
   "source": [
    "platform.python_version()"
   ]
  },
  {
   "cell_type": "code",
   "execution_count": 78,
   "id": "1b1cdc9c",
   "metadata": {},
   "outputs": [
    {
     "name": "stdout",
     "output_type": "stream",
     "text": [
      "Hello World\n"
     ]
    }
   ],
   "source": [
    "print('Hello World')"
   ]
  },
  {
   "cell_type": "code",
   "execution_count": 79,
   "id": "3d0aba05",
   "metadata": {},
   "outputs": [
    {
     "name": "stdout",
     "output_type": "stream",
     "text": [
      "<class 'int'>\n"
     ]
    }
   ],
   "source": [
    "x = 3\n",
    "print(type(x))"
   ]
  },
  {
   "cell_type": "code",
   "execution_count": 80,
   "id": "ad26436d",
   "metadata": {},
   "outputs": [
    {
     "data": {
      "text/plain": [
       "3.0"
      ]
     },
     "execution_count": 80,
     "metadata": {},
     "output_type": "execute_result"
    }
   ],
   "source": [
    "y = float(x)\n",
    "y"
   ]
  },
  {
   "cell_type": "code",
   "execution_count": 81,
   "id": "5a5562d7",
   "metadata": {},
   "outputs": [],
   "source": [
    "a = 30"
   ]
  },
  {
   "cell_type": "code",
   "execution_count": 82,
   "id": "44d62a86",
   "metadata": {
    "scrolled": true
   },
   "outputs": [],
   "source": [
    "distance = [10,15,17,26]\n",
    "time = [.30,0.47,0.55,1.20]"
   ]
  },
  {
   "cell_type": "code",
   "execution_count": 83,
   "id": "956f9e09",
   "metadata": {},
   "outputs": [
    {
     "ename": "TypeError",
     "evalue": "unsupported operand type(s) for /: 'list' and 'list'",
     "output_type": "error",
     "traceback": [
      "\u001b[1;31m---------------------------------------------------------------------------\u001b[0m",
      "\u001b[1;31mTypeError\u001b[0m                                 Traceback (most recent call last)",
      "\u001b[1;32m<ipython-input-83-20a7f05c102d>\u001b[0m in \u001b[0;36m<module>\u001b[1;34m\u001b[0m\n\u001b[1;32m----> 1\u001b[1;33m \u001b[0mspeed\u001b[0m \u001b[1;33m=\u001b[0m \u001b[0mdistance\u001b[0m\u001b[1;33m/\u001b[0m\u001b[0mtime\u001b[0m\u001b[1;33m\u001b[0m\u001b[1;33m\u001b[0m\u001b[0m\n\u001b[0m",
      "\u001b[1;31mTypeError\u001b[0m: unsupported operand type(s) for /: 'list' and 'list'"
     ]
    }
   ],
   "source": [
    "speed = distance/time"
   ]
  },
  {
   "cell_type": "code",
   "execution_count": 84,
   "id": "21510b6b",
   "metadata": {},
   "outputs": [],
   "source": [
    "import numpy as np"
   ]
  },
  {
   "cell_type": "code",
   "execution_count": 85,
   "id": "dfade2ca",
   "metadata": {
    "scrolled": true
   },
   "outputs": [],
   "source": [
    "np_distance = np.array(distance)\n",
    "np_time = np.array(time)"
   ]
  },
  {
   "cell_type": "code",
   "execution_count": 86,
   "id": "01952880",
   "metadata": {},
   "outputs": [
    {
     "data": {
      "text/plain": [
       "array([33.33333333, 31.91489362, 30.90909091, 21.66666667])"
      ]
     },
     "execution_count": 86,
     "metadata": {},
     "output_type": "execute_result"
    }
   ],
   "source": [
    "np_speed = np_distance/np_time\n",
    "np_speed"
   ]
  },
  {
   "cell_type": "code",
   "execution_count": 87,
   "id": "77092931",
   "metadata": {},
   "outputs": [
    {
     "data": {
      "text/plain": [
       "array([[0., 0., 0.],\n",
       "       [0., 0., 0.],\n",
       "       [0., 0., 0.]])"
      ]
     },
     "execution_count": 87,
     "metadata": {},
     "output_type": "execute_result"
    }
   ],
   "source": [
    "#Creating an arrays with zeros\n",
    "array_with_zeros = np.zeros((3,3))\n",
    "array_with_zeros"
   ]
  },
  {
   "cell_type": "code",
   "execution_count": 88,
   "id": "771fb934",
   "metadata": {},
   "outputs": [
    {
     "data": {
      "text/plain": [
       "array([[1., 1., 1.],\n",
       "       [1., 1., 1.],\n",
       "       [1., 1., 1.]])"
      ]
     },
     "execution_count": 88,
     "metadata": {},
     "output_type": "execute_result"
    }
   ],
   "source": [
    "array_with_ones = np.ones((3,3))\n",
    "array_with_ones"
   ]
  },
  {
   "cell_type": "code",
   "execution_count": 89,
   "id": "b68efab2",
   "metadata": {},
   "outputs": [
    {
     "data": {
      "text/plain": [
       "array([[0., 0., 0.],\n",
       "       [0., 0., 0.]])"
      ]
     },
     "execution_count": 89,
     "metadata": {},
     "output_type": "execute_result"
    }
   ],
   "source": [
    "empty_array= np.empty((2,3))\n",
    "empty_array"
   ]
  },
  {
   "cell_type": "code",
   "execution_count": 90,
   "id": "cb98b3e4",
   "metadata": {},
   "outputs": [
    {
     "data": {
      "text/plain": [
       "array([ 0,  1,  2,  3,  4,  5,  6,  7,  8,  9, 10, 11])"
      ]
     },
     "execution_count": 90,
     "metadata": {},
     "output_type": "execute_result"
    }
   ],
   "source": [
    "# arange method\n",
    "np_arange = np.arange(12)\n",
    "np_arange"
   ]
  },
  {
   "cell_type": "code",
   "execution_count": 91,
   "id": "13d8e0c8",
   "metadata": {},
   "outputs": [
    {
     "data": {
      "text/plain": [
       "array([[ 0,  1,  2,  3],\n",
       "       [ 4,  5,  6,  7],\n",
       "       [ 8,  9, 10, 11]])"
      ]
     },
     "execution_count": 91,
     "metadata": {},
     "output_type": "execute_result"
    }
   ],
   "source": [
    "np_arange.reshape(3,4) #To reshape an array"
   ]
  },
  {
   "cell_type": "code",
   "execution_count": 92,
   "id": "6c5124a3",
   "metadata": {},
   "outputs": [
    {
     "data": {
      "text/plain": [
       "array([1.  , 2.25, 3.5 , 4.75, 6.  ])"
      ]
     },
     "execution_count": 92,
     "metadata": {},
     "output_type": "execute_result"
    }
   ],
   "source": [
    "#linspace\n",
    "np_linspace = np.linspace(1,6,5) #np.linspace(start, end, no of evenly spaced elements)\n",
    "np_linspace"
   ]
  },
  {
   "cell_type": "code",
   "execution_count": 93,
   "id": "5119c1c0",
   "metadata": {},
   "outputs": [
    {
     "name": "stdout",
     "output_type": "stream",
     "text": [
      "[ 0  1  2  3  4  5  6  7  8  9 10 11 12 13 14]\n",
      "[[ 0  1  2  3  4]\n",
      " [ 5  6  7  8  9]\n",
      " [10 11 12 13 14]]\n",
      "[[[ 0  1  2]\n",
      "  [ 3  4  5]\n",
      "  [ 6  7  8]]\n",
      "\n",
      " [[ 9 10 11]\n",
      "  [12 13 14]\n",
      "  [15 16 17]]\n",
      "\n",
      " [[18 19 20]\n",
      "  [21 22 23]\n",
      "  [24 25 26]]]\n"
     ]
    }
   ],
   "source": [
    "# 1D, 2D and 3D arrays\n",
    "oneD = np.arange (15)\n",
    "print(oneD)\n",
    "twoD = oneD.reshape(3,5)\n",
    "print(twoD)\n",
    "threeD = np.arange(27).reshape(3,3,3)\n",
    "print(threeD)"
   ]
  },
  {
   "cell_type": "code",
   "execution_count": 94,
   "id": "9d8db918",
   "metadata": {},
   "outputs": [
    {
     "data": {
      "text/plain": [
       "1"
      ]
     },
     "execution_count": 94,
     "metadata": {},
     "output_type": "execute_result"
    }
   ],
   "source": [
    "#Ndim shows the dimension of the array\n",
    "city = np.array(['NYC','LA','Miami','Houston'])\n",
    "city.ndim"
   ]
  },
  {
   "cell_type": "code",
   "execution_count": 95,
   "id": "8724028f",
   "metadata": {},
   "outputs": [
    {
     "data": {
      "text/plain": [
       "2"
      ]
     },
     "execution_count": 95,
     "metadata": {},
     "output_type": "execute_result"
    }
   ],
   "source": [
    "city_state = np.array([['NYC', 'LA','Miami','Houston'],['NY','CA','FL','TX']])\n",
    "city_state.ndim"
   ]
  },
  {
   "cell_type": "code",
   "execution_count": 96,
   "id": "747f439e",
   "metadata": {},
   "outputs": [
    {
     "data": {
      "text/plain": [
       "(4,)"
      ]
     },
     "execution_count": 96,
     "metadata": {},
     "output_type": "execute_result"
    }
   ],
   "source": [
    "#ndarray.shape\n",
    "city.shape"
   ]
  },
  {
   "cell_type": "code",
   "execution_count": 97,
   "id": "f8a2b2c9",
   "metadata": {},
   "outputs": [
    {
     "data": {
      "text/plain": [
       "(2, 4)"
      ]
     },
     "execution_count": 97,
     "metadata": {},
     "output_type": "execute_result"
    }
   ],
   "source": [
    "city_state.shape"
   ]
  },
  {
   "cell_type": "code",
   "execution_count": 98,
   "id": "c6a37853",
   "metadata": {},
   "outputs": [
    {
     "data": {
      "text/plain": [
       "4"
      ]
     },
     "execution_count": 98,
     "metadata": {},
     "output_type": "execute_result"
    }
   ],
   "source": [
    "#ndarray.size\n",
    "city.size"
   ]
  },
  {
   "cell_type": "code",
   "execution_count": 99,
   "id": "bdb209c5",
   "metadata": {},
   "outputs": [
    {
     "data": {
      "text/plain": [
       "8"
      ]
     },
     "execution_count": 99,
     "metadata": {},
     "output_type": "execute_result"
    }
   ],
   "source": [
    "city_state.size"
   ]
  },
  {
   "cell_type": "code",
   "execution_count": 100,
   "id": "04f84398",
   "metadata": {},
   "outputs": [
    {
     "data": {
      "text/plain": [
       "dtype('<U7')"
      ]
     },
     "execution_count": 100,
     "metadata": {},
     "output_type": "execute_result"
    }
   ],
   "source": [
    "#ndarray.dtype\n",
    "city_state.dtype"
   ]
  },
  {
   "cell_type": "markdown",
   "id": "e9efb9e4",
   "metadata": {},
   "source": [
    "Basic Operations"
   ]
  },
  {
   "cell_type": "code",
   "execution_count": 101,
   "id": "4e60e4f1",
   "metadata": {},
   "outputs": [
    {
     "data": {
      "text/plain": [
       "90"
      ]
     },
     "execution_count": 101,
     "metadata": {},
     "output_type": "execute_result"
    }
   ],
   "source": [
    "#addition\n",
    "np.add(40,50)"
   ]
  },
  {
   "cell_type": "code",
   "execution_count": 102,
   "id": "7a3b75c8",
   "metadata": {},
   "outputs": [
    {
     "data": {
      "text/plain": [
       "10"
      ]
     },
     "execution_count": 102,
     "metadata": {},
     "output_type": "execute_result"
    }
   ],
   "source": [
    "#Subtraction\n",
    "np.subtract(50,40)"
   ]
  },
  {
   "cell_type": "code",
   "execution_count": 103,
   "id": "5251ec5d",
   "metadata": {},
   "outputs": [
    {
     "name": "stdout",
     "output_type": "stream",
     "text": [
      "[105 150 135 165 225 180]\n"
     ]
    }
   ],
   "source": [
    "#ndarray multiplication\n",
    "hourly_wage =np.array([7,10,9,11,15,12])*15\n",
    "print(hourly_wage)"
   ]
  },
  {
   "cell_type": "code",
   "execution_count": 104,
   "id": "058b9d22",
   "metadata": {},
   "outputs": [
    {
     "data": {
      "text/plain": [
       "960"
      ]
     },
     "execution_count": 104,
     "metadata": {},
     "output_type": "execute_result"
    }
   ],
   "source": [
    "#total earings after 6 days\n",
    "sum(hourly_wage)"
   ]
  },
  {
   "cell_type": "markdown",
   "id": "3dc577c6",
   "metadata": {},
   "source": [
    "Comparison Operators"
   ]
  },
  {
   "cell_type": "code",
   "execution_count": 105,
   "id": "2fee1db2",
   "metadata": {},
   "outputs": [
    {
     "data": {
      "text/plain": [
       "array([60, 67, 87, 93, 67, 88, 98, 89])"
      ]
     },
     "execution_count": 105,
     "metadata": {},
     "output_type": "execute_result"
    }
   ],
   "source": [
    "marks =np.array([60,67, 87, 93, 67, 75, 88, 98, 89])\n",
    "marks[marks!=75] #(<,>,==,!=)"
   ]
  },
  {
   "cell_type": "markdown",
   "id": "d81b84b1",
   "metadata": {},
   "source": [
    "Logical Operations"
   ]
  },
  {
   "cell_type": "code",
   "execution_count": 106,
   "id": "bda7f002",
   "metadata": {},
   "outputs": [
    {
     "data": {
      "text/plain": [
       "array([False,  True,  True, False,  True,  True,  True, False,  True])"
      ]
     },
     "execution_count": 106,
     "metadata": {},
     "output_type": "execute_result"
    }
   ],
   "source": [
    "#np.logical_and (for more than one condition)\n",
    "np.logical_and(marks>65,marks<90)"
   ]
  },
  {
   "cell_type": "code",
   "execution_count": 107,
   "id": "b5c7b79a",
   "metadata": {},
   "outputs": [
    {
     "data": {
      "text/plain": [
       "array([ True,  True, False, False,  True, False, False, False, False])"
      ]
     },
     "execution_count": 107,
     "metadata": {},
     "output_type": "execute_result"
    }
   ],
   "source": [
    "#np.logical_not(for using conditions like not greater than, not less than,not equal to)\n",
    "np.logical_not(marks>=75)"
   ]
  },
  {
   "cell_type": "markdown",
   "id": "e4463547",
   "metadata": {},
   "source": [
    "Accessing Array elements (Indexing)"
   ]
  },
  {
   "cell_type": "code",
   "execution_count": 108,
   "id": "5699f3d8",
   "metadata": {},
   "outputs": [
    {
     "name": "stdout",
     "output_type": "stream",
     "text": [
      "17\n",
      "[12 11 21 24]\n",
      "[[15 17]\n",
      " [11 21]]\n"
     ]
    }
   ],
   "source": [
    "cyclist_trials = np.array([[10,15,17, 26],[12,11,21,24]])\n",
    "first_trial = cyclist_trials[0][2]\n",
    "print(first_trial)\n",
    "second_trial = cyclist_trials[1]\n",
    "print(second_trial)\n",
    "two_cyclist_data =cyclist_trials[:,1:3]\n",
    "print(two_cyclist_data)"
   ]
  },
  {
   "cell_type": "code",
   "execution_count": 109,
   "id": "f8724b4a",
   "metadata": {},
   "outputs": [
    {
     "name": "stdout",
     "output_type": "stream",
     "text": [
      "[10 15 17 26]\n",
      "[20 30 34 52]\n",
      "[12 11 21 24]\n",
      "[24 22 42 48]\n"
     ]
    }
   ],
   "source": [
    "for iterate in cyclist_trials:\n",
    "    print(iterate)\n",
    "    new = iterate * 2\n",
    "    print(new)"
   ]
  },
  {
   "cell_type": "markdown",
   "id": "f1172281",
   "metadata": {},
   "source": [
    "Indexing with Boolean Arrays"
   ]
  },
  {
   "cell_type": "code",
   "execution_count": 110,
   "id": "dc9a02cf",
   "metadata": {},
   "outputs": [
    {
     "data": {
      "text/plain": [
       "array([[ True,  True, False,  True],\n",
       "       [False,  True,  True, False]])"
      ]
     },
     "execution_count": 110,
     "metadata": {},
     "output_type": "execute_result"
    }
   ],
   "source": [
    "scores = np.array([[83,71,57,63],[54,68,81,45]])\n",
    "passing_score = scores>60\n",
    "passing_score"
   ]
  },
  {
   "cell_type": "code",
   "execution_count": 111,
   "id": "c975f4d2",
   "metadata": {},
   "outputs": [
    {
     "data": {
      "text/plain": [
       "array([83, 71, 63, 68, 81])"
      ]
     },
     "execution_count": 111,
     "metadata": {},
     "output_type": "execute_result"
    }
   ],
   "source": [
    "scores[passing_score]"
   ]
  },
  {
   "cell_type": "markdown",
   "id": "5e50b05a",
   "metadata": {},
   "source": [
    "Copy and Views"
   ]
  },
  {
   "cell_type": "code",
   "execution_count": 112,
   "id": "22331c63",
   "metadata": {},
   "outputs": [
    {
     "data": {
      "text/plain": [
       "array(['Manhattan', 'Bronx', 'Brooklyn', 'Staten Island', 'Queens'],\n",
       "      dtype='<U13')"
      ]
     },
     "execution_count": 112,
     "metadata": {},
     "output_type": "execute_result"
    }
   ],
   "source": [
    "NYC_Borough = np.array(['Manhattan','Bronx','Brooklyn','Staten Island','Queens'])\n",
    "NYC_Borough"
   ]
  },
  {
   "cell_type": "code",
   "execution_count": 113,
   "id": "aaa5bbd2",
   "metadata": {},
   "outputs": [
    {
     "data": {
      "text/plain": [
       "array(['Manhattan', 'Bronx', 'Brooklyn', 'Staten Island', 'Queens'],\n",
       "      dtype='<U13')"
      ]
     },
     "execution_count": 113,
     "metadata": {},
     "output_type": "execute_result"
    }
   ],
   "source": [
    "Borough_in_NYC = NYC_Borough\n",
    "Borough_in_NYC"
   ]
  },
  {
   "cell_type": "code",
   "execution_count": 114,
   "id": "b174fae6",
   "metadata": {},
   "outputs": [
    {
     "data": {
      "text/plain": [
       "True"
      ]
     },
     "execution_count": 114,
     "metadata": {},
     "output_type": "execute_result"
    }
   ],
   "source": [
    "Borough_in_NYC is NYC_Borough"
   ]
  },
  {
   "cell_type": "code",
   "execution_count": 115,
   "id": "2c136d23",
   "metadata": {},
   "outputs": [
    {
     "data": {
      "text/plain": [
       "array(['Manhattan', 'Bronx', 'Brooklyn', 'Staten Island', 'Queens'],\n",
       "      dtype='<U13')"
      ]
     },
     "execution_count": 115,
     "metadata": {},
     "output_type": "execute_result"
    }
   ],
   "source": [
    "view_of_Borough_in_NYC = Borough_in_NYC.view()\n",
    "view_of_Borough_in_NYC"
   ]
  },
  {
   "cell_type": "code",
   "execution_count": 116,
   "id": "907e5d77",
   "metadata": {},
   "outputs": [
    {
     "data": {
      "text/plain": [
       "5"
      ]
     },
     "execution_count": 116,
     "metadata": {},
     "output_type": "execute_result"
    }
   ],
   "source": [
    "len(view_of_Borough_in_NYC)"
   ]
  },
  {
   "cell_type": "code",
   "execution_count": 117,
   "id": "99f82b1a",
   "metadata": {},
   "outputs": [
    {
     "data": {
      "text/plain": [
       "array(['Manhattan', 'Bronx', 'Brooklyn', 'Staten Island', 'Central Park'],\n",
       "      dtype='<U13')"
      ]
     },
     "execution_count": 117,
     "metadata": {},
     "output_type": "execute_result"
    }
   ],
   "source": [
    "view_of_Borough_in_NYC[4]='Central Park' #Changing Value in view object changes the value in original Data Set\n",
    "view_of_Borough_in_NYC"
   ]
  },
  {
   "cell_type": "code",
   "execution_count": 118,
   "id": "d9782bb4",
   "metadata": {},
   "outputs": [
    {
     "data": {
      "text/plain": [
       "array(['Manhattan', 'Bronx', 'Brooklyn', 'Staten Island', 'Central Park'],\n",
       "      dtype='<U13')"
      ]
     },
     "execution_count": 118,
     "metadata": {},
     "output_type": "execute_result"
    }
   ],
   "source": [
    "Borough_in_NYC"
   ]
  },
  {
   "cell_type": "code",
   "execution_count": 119,
   "id": "2873eadf",
   "metadata": {},
   "outputs": [
    {
     "data": {
      "text/plain": [
       "array(['Manhattan', 'Bronx', 'Brooklyn', 'Staten Island', 'Central Park'],\n",
       "      dtype='<U13')"
      ]
     },
     "execution_count": 119,
     "metadata": {},
     "output_type": "execute_result"
    }
   ],
   "source": [
    "copy_of_NYC_Borough = NYC_Borough.copy()\n",
    "copy_of_NYC_Borough"
   ]
  },
  {
   "cell_type": "code",
   "execution_count": 120,
   "id": "df95bffc",
   "metadata": {},
   "outputs": [
    {
     "data": {
      "text/plain": [
       "False"
      ]
     },
     "execution_count": 120,
     "metadata": {},
     "output_type": "execute_result"
    }
   ],
   "source": [
    "copy_of_NYC_Borough is NYC_Borough \n",
    "#Even though copy is exactly same as original, the values is False as it is treated different."
   ]
  },
  {
   "cell_type": "code",
   "execution_count": 121,
   "id": "969f775e",
   "metadata": {},
   "outputs": [
    {
     "data": {
      "text/plain": [
       "False"
      ]
     },
     "execution_count": 121,
     "metadata": {},
     "output_type": "execute_result"
    }
   ],
   "source": [
    "NYC_Borough.base is NYC_Borough\n",
    "#Shows 'copy' object data is not owned by the original Dataset"
   ]
  },
  {
   "cell_type": "code",
   "execution_count": 124,
   "id": "5e8776c3",
   "metadata": {},
   "outputs": [
    {
     "data": {
      "text/plain": [
       "array(['Manhattan', 'Bronx', 'Brooklyn', 'Staten Island', 'Central Park'],\n",
       "      dtype='<U13')"
      ]
     },
     "execution_count": 124,
     "metadata": {},
     "output_type": "execute_result"
    }
   ],
   "source": [
    "copy_of_NYC_Borough[4] ='Central Park'\n",
    "copy_of_NYC_Borough"
   ]
  },
  {
   "cell_type": "markdown",
   "id": "6b625f82",
   "metadata": {},
   "source": [
    "# Mathemathical Functions"
   ]
  },
  {
   "cell_type": "markdown",
   "id": "3c276c3d",
   "metadata": {},
   "source": [
    "NumPy provides useful mathematical functions, which are called Universal Functions.\\\n",
    "These functions operate element-wiseon an array, producing another array as output.\\\n",
    "Some of the functions are listed below:-\n",
    "\n",
    "sqrt functions provides the squareroot of every element in the array.\\\n",
    "cos function provides the cosine value for every element in the array.\\\n",
    "floor function returns the largest integer value of the every element in the array.\\\n",
    "exp function performs exponentiation on each element of the array."
   ]
  },
  {
   "cell_type": "code",
   "execution_count": 127,
   "id": "9a0d1437",
   "metadata": {},
   "outputs": [
    {
     "data": {
      "text/plain": [
       "array([1.        , 1.41421356, 1.73205081, 2.        , 2.23606798])"
      ]
     },
     "execution_count": 127,
     "metadata": {},
     "output_type": "execute_result"
    }
   ],
   "source": [
    "np_sqrt = np.sqrt([1,2,3,4,5])\n",
    "np_sqrt"
   ]
  },
  {
   "cell_type": "code",
   "execution_count": 128,
   "id": "e8a7bd99",
   "metadata": {},
   "outputs": [
    {
     "data": {
      "text/plain": [
       "0.28366218546322625"
      ]
     },
     "execution_count": 128,
     "metadata": {},
     "output_type": "execute_result"
    }
   ],
   "source": [
    "from numpy import pi\n",
    "np.cos(5)"
   ]
  },
  {
   "cell_type": "code",
   "execution_count": 130,
   "id": "a73383f6",
   "metadata": {},
   "outputs": [
    {
     "data": {
      "text/plain": [
       "1.0"
      ]
     },
     "execution_count": 130,
     "metadata": {},
     "output_type": "execute_result"
    }
   ],
   "source": [
    "np.sin(pi/2)"
   ]
  },
  {
   "cell_type": "code",
   "execution_count": 131,
   "id": "972c9d1f",
   "metadata": {},
   "outputs": [
    {
     "data": {
      "text/plain": [
       "-1.0"
      ]
     },
     "execution_count": 131,
     "metadata": {},
     "output_type": "execute_result"
    }
   ],
   "source": [
    "np.cos(pi)"
   ]
  },
  {
   "cell_type": "code",
   "execution_count": 132,
   "id": "cb63ca1f",
   "metadata": {},
   "outputs": [
    {
     "data": {
      "text/plain": [
       "array([1., 1., 2., 3., 4., 5., 6., 7.])"
      ]
     },
     "execution_count": 132,
     "metadata": {},
     "output_type": "execute_result"
    }
   ],
   "source": [
    "np.floor([1.5,1.6, 2.6, 3.5, 4.8, 5.0, 6.34, 7.4])\n"
   ]
  },
  {
   "cell_type": "code",
   "execution_count": 133,
   "id": "03c8d30c",
   "metadata": {},
   "outputs": [
    {
     "data": {
      "text/plain": [
       "array([ 1.        ,  2.71828183, 20.08553692])"
      ]
     },
     "execution_count": 133,
     "metadata": {},
     "output_type": "execute_result"
    }
   ],
   "source": [
    "np.exp([0,1,3])"
   ]
  },
  {
   "cell_type": "markdown",
   "id": "1da60e49",
   "metadata": {},
   "source": [
    "Shape Manipulation.\\\n",
    "Certain following methods can be used to manipulate the shape of an array."
   ]
  },
  {
   "cell_type": "code",
   "execution_count": 135,
   "id": "91bb15a6",
   "metadata": {},
   "outputs": [],
   "source": [
    "new_cyclist_trials = np.array([[10,15,17,26,13,19],[12,11,21,24,14,23]])"
   ]
  },
  {
   "cell_type": "code",
   "execution_count": 136,
   "id": "0e63d205",
   "metadata": {},
   "outputs": [
    {
     "data": {
      "text/plain": [
       "array([10, 15, 17, 26, 13, 19, 12, 11, 21, 24, 14, 23])"
      ]
     },
     "execution_count": 136,
     "metadata": {},
     "output_type": "execute_result"
    }
   ],
   "source": [
    "new_cyclist_trials.ravel()\n",
    "#ravel function joins the multi dimention array into one single dimentions array. Flattens the Dataset"
   ]
  },
  {
   "cell_type": "code",
   "execution_count": 144,
   "id": "6d3bb28f",
   "metadata": {},
   "outputs": [
    {
     "data": {
      "text/plain": [
       "array([[[10, 15],\n",
       "        [17, 26]],\n",
       "\n",
       "       [[13, 19],\n",
       "        [12, 11]],\n",
       "\n",
       "       [[21, 24],\n",
       "        [14, 23]]])"
      ]
     },
     "execution_count": 144,
     "metadata": {},
     "output_type": "execute_result"
    }
   ],
   "source": [
    "new_cyclist_trials.reshape(3,2,2)\n",
    "#reshape functions reshapes array into specified array type.Changes the shape of the dataset"
   ]
  },
  {
   "cell_type": "code",
   "execution_count": 151,
   "id": "b3e0c7b6",
   "metadata": {},
   "outputs": [
    {
     "data": {
      "text/plain": [
       "array([[10, 15, 17, 26, 13, 19],\n",
       "       [12, 11, 21, 24, 14, 23]])"
      ]
     },
     "execution_count": 151,
     "metadata": {},
     "output_type": "execute_result"
    }
   ],
   "source": [
    "new_cyclist_trials.resize(2,6)\n",
    "new_cyclist_trials \n",
    "#Resizes the Data set"
   ]
  },
  {
   "cell_type": "code",
   "execution_count": 160,
   "id": "4de4faae",
   "metadata": {},
   "outputs": [
    {
     "data": {
      "text/plain": [
       "[array([[10, 15, 17],\n",
       "        [12, 11, 21]]),\n",
       " array([[26, 13, 19],\n",
       "        [24, 14, 23]])]"
      ]
     },
     "execution_count": 160,
     "metadata": {},
     "output_type": "execute_result"
    }
   ],
   "source": [
    "np.hsplit(new_cyclist_trials,2)\n",
    "#splits the array into specified nomber of arrays, in the case its 2"
   ]
  },
  {
   "cell_type": "code",
   "execution_count": 161,
   "id": "05d814a3",
   "metadata": {},
   "outputs": [
    {
     "name": "stdout",
     "output_type": "stream",
     "text": [
      "cyclist_1 =  [10 15 17 26 13 19]\n",
      "cyclist_2 = [12 11 21 24 14 23]\n"
     ]
    }
   ],
   "source": [
    "new_cyclist_trials = np.array([[10,15,17,26,13,19],[12,11,21,24,14,23]])\n",
    "cyclist_1 = new_cyclist_trials[0]\n",
    "cyclist_2 =new_cyclist_trials[1]\n",
    "print('cyclist_1 = ',cyclist_1)\n",
    "print('cyclist_2 =', cyclist_2)"
   ]
  },
  {
   "cell_type": "code",
   "execution_count": 162,
   "id": "deed4a77",
   "metadata": {},
   "outputs": [
    {
     "data": {
      "text/plain": [
       "array([10, 15, 17, 26, 13, 19, 12, 11, 21, 24, 14, 23])"
      ]
     },
     "execution_count": 162,
     "metadata": {},
     "output_type": "execute_result"
    }
   ],
   "source": [
    "np.hstack((cyclist_1,cyclist_2))\n",
    "#Stacks multiple arrays together."
   ]
  },
  {
   "cell_type": "markdown",
   "id": "86df07fb",
   "metadata": {},
   "source": [
    "# Broadcasting.\n",
    "Numpy used Broadcasting to carry out Arithmetic operations between arrays of different shapes.\\\n",
    "In this method NumPy automatically broadcasts the smaller array over the larger array."
   ]
  },
  {
   "cell_type": "code",
   "execution_count": 163,
   "id": "3287d356",
   "metadata": {},
   "outputs": [
    {
     "data": {
      "text/plain": [
       "array([0.6, 0.9, 2. , 3. ])"
      ]
     },
     "execution_count": 163,
     "metadata": {},
     "output_type": "execute_result"
    }
   ],
   "source": [
    "#Creating arrays of same shape\n",
    "a = np.array([2,3,4,5])\n",
    "b = np.array([.3,.3,.5,.6])\n",
    "a*b"
   ]
  },
  {
   "cell_type": "code",
   "execution_count": 164,
   "id": "1c493bcf",
   "metadata": {},
   "outputs": [
    {
     "data": {
      "text/plain": [
       "array([0.4, 0.6, 0.8, 1. ])"
      ]
     },
     "execution_count": 164,
     "metadata": {},
     "output_type": "execute_result"
    }
   ],
   "source": [
    "# a and c are of different shapes, so broadcasting multiplies the entire array a with the scalar c\n",
    "c = .2\n",
    "a*c"
   ]
  },
  {
   "cell_type": "markdown",
   "id": "1c2abdf6",
   "metadata": {},
   "source": [
    "Broadcasting has its own limitations.\\\n",
    "Though broadcasting can help carry out mathematical operation between different shaped arrays, it is subject to certain constraints as listed below:\\\n",
    "When NumPy operates on two arrays, it compares theier shapes elementwise, It finds these shapes compatible only if :\\\n",
    "Their dimensions are same, or \\\n",
    "One of then has a dimension of 1"
   ]
  },
  {
   "cell_type": "code",
   "execution_count": null,
   "id": "541cee56",
   "metadata": {},
   "outputs": [],
   "source": []
  }
 ],
 "metadata": {
  "kernelspec": {
   "display_name": "Python 3",
   "language": "python",
   "name": "python3"
  },
  "language_info": {
   "codemirror_mode": {
    "name": "ipython",
    "version": 3
   },
   "file_extension": ".py",
   "mimetype": "text/x-python",
   "name": "python",
   "nbconvert_exporter": "python",
   "pygments_lexer": "ipython3",
   "version": "3.8.8"
  }
 },
 "nbformat": 4,
 "nbformat_minor": 5
}
