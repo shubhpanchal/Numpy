{
 "cells": [
  {
   "cell_type": "code",
   "execution_count": 74,
   "id": "07b857ec",
   "metadata": {},
   "outputs": [],
   "source": [
    "import sys"
   ]
  },
  {
   "cell_type": "code",
   "execution_count": 75,
   "id": "47c16995",
   "metadata": {},
   "outputs": [
    {
     "name": "stdout",
     "output_type": "stream",
     "text": [
      "3.8.8 (default, Apr 13 2021, 15:08:03) [MSC v.1916 64 bit (AMD64)]\n"
     ]
    }
   ],
   "source": [
    "print(sys.version)"
   ]
  },
  {
   "cell_type": "code",
   "execution_count": 76,
   "id": "af32dafb",
   "metadata": {},
   "outputs": [],
   "source": [
    "import platform"
   ]
  },
  {
   "cell_type": "code",
   "execution_count": 77,
   "id": "3aa5a651",
   "metadata": {},
   "outputs": [
    {
     "data": {
      "text/plain": [
       "'3.8.8'"
      ]
     },
     "execution_count": 77,
     "metadata": {},
     "output_type": "execute_result"
    }
   ],
   "source": [
    "platform.python_version()"
   ]
  },
  {
   "cell_type": "code",
   "execution_count": 78,
   "id": "727c945c",
   "metadata": {},
   "outputs": [
    {
     "name": "stdout",
     "output_type": "stream",
     "text": [
      "Hello World\n"
     ]
    }
   ],
   "source": [
    "print('Hello World')"
   ]
  },
  {
   "cell_type": "code",
   "execution_count": 79,
   "id": "dabf8dc0",
   "metadata": {},
   "outputs": [
    {
     "name": "stdout",
     "output_type": "stream",
     "text": [
      "<class 'int'>\n"
     ]
    }
   ],
   "source": [
    "x = 3\n",
    "print(type(x))"
   ]
  },
  {
   "cell_type": "code",
   "execution_count": 80,
   "id": "a48dbefa",
   "metadata": {},
   "outputs": [
    {
     "data": {
      "text/plain": [
       "3.0"
      ]
     },
     "execution_count": 80,
     "metadata": {},
     "output_type": "execute_result"
    }
   ],
   "source": [
    "y = float(x)\n",
    "y"
   ]
  },
  {
   "cell_type": "code",
   "execution_count": 81,
   "id": "16ae7d35",
   "metadata": {},
   "outputs": [],
   "source": [
    "a = 30"
   ]
  },
  {
   "cell_type": "code",
   "execution_count": 82,
   "id": "71e3f023",
   "metadata": {
    "scrolled": true
   },
   "outputs": [],
   "source": [
    "distance = [10,15,17,26]\n",
    "time = [.30,0.47,0.55,1.20]"
   ]
  },
  {
   "cell_type": "code",
   "execution_count": 83,
   "id": "20b3e6cf",
   "metadata": {},
   "outputs": [
    {
     "ename": "TypeError",
     "evalue": "unsupported operand type(s) for /: 'list' and 'list'",
     "output_type": "error",
     "traceback": [
      "\u001b[1;31m---------------------------------------------------------------------------\u001b[0m",
      "\u001b[1;31mTypeError\u001b[0m                                 Traceback (most recent call last)",
      "\u001b[1;32m<ipython-input-83-20a7f05c102d>\u001b[0m in \u001b[0;36m<module>\u001b[1;34m\u001b[0m\n\u001b[1;32m----> 1\u001b[1;33m \u001b[0mspeed\u001b[0m \u001b[1;33m=\u001b[0m \u001b[0mdistance\u001b[0m\u001b[1;33m/\u001b[0m\u001b[0mtime\u001b[0m\u001b[1;33m\u001b[0m\u001b[1;33m\u001b[0m\u001b[0m\n\u001b[0m",
      "\u001b[1;31mTypeError\u001b[0m: unsupported operand type(s) for /: 'list' and 'list'"
     ]
    }
   ],
   "source": [
    "speed = distance/time"
   ]
  },
  {
   "cell_type": "code",
   "execution_count": 84,
   "id": "78d18a77",
   "metadata": {},
   "outputs": [],
   "source": [
    "import numpy as np"
   ]
  },
  {
   "cell_type": "code",
   "execution_count": 85,
   "id": "71d648b5",
   "metadata": {
    "scrolled": true
   },
   "outputs": [],
   "source": [
    "np_distance = np.array(distance)\n",
    "np_time = np.array(time)"
   ]
  },
  {
   "cell_type": "code",
   "execution_count": 86,
   "id": "4616b555",
   "metadata": {},
   "outputs": [
    {
     "data": {
      "text/plain": [
       "array([33.33333333, 31.91489362, 30.90909091, 21.66666667])"
      ]
     },
     "execution_count": 86,
     "metadata": {},
     "output_type": "execute_result"
    }
   ],
   "source": [
    "np_speed = np_distance/np_time\n",
    "np_speed"
   ]
  },
  {
   "cell_type": "code",
   "execution_count": 87,
   "id": "855cfc36",
   "metadata": {},
   "outputs": [
    {
     "data": {
      "text/plain": [
       "array([[0., 0., 0.],\n",
       "       [0., 0., 0.],\n",
       "       [0., 0., 0.]])"
      ]
     },
     "execution_count": 87,
     "metadata": {},
     "output_type": "execute_result"
    }
   ],
   "source": [
    "#Creating an arrays with zeros\n",
    "array_with_zeros = np.zeros((3,3))\n",
    "array_with_zeros"
   ]
  },
  {
   "cell_type": "code",
   "execution_count": 88,
   "id": "a975af79",
   "metadata": {},
   "outputs": [
    {
     "data": {
      "text/plain": [
       "array([[1., 1., 1.],\n",
       "       [1., 1., 1.],\n",
       "       [1., 1., 1.]])"
      ]
     },
     "execution_count": 88,
     "metadata": {},
     "output_type": "execute_result"
    }
   ],
   "source": [
    "array_with_ones = np.ones((3,3))\n",
    "array_with_ones"
   ]
  },
  {
   "cell_type": "code",
   "execution_count": 89,
   "id": "69c5b376",
   "metadata": {},
   "outputs": [
    {
     "data": {
      "text/plain": [
       "array([[0., 0., 0.],\n",
       "       [0., 0., 0.]])"
      ]
     },
     "execution_count": 89,
     "metadata": {},
     "output_type": "execute_result"
    }
   ],
   "source": [
    "empty_array= np.empty((2,3))\n",
    "empty_array"
   ]
  },
  {
   "cell_type": "code",
   "execution_count": 90,
   "id": "08f291eb",
   "metadata": {},
   "outputs": [
    {
     "data": {
      "text/plain": [
       "array([ 0,  1,  2,  3,  4,  5,  6,  7,  8,  9, 10, 11])"
      ]
     },
     "execution_count": 90,
     "metadata": {},
     "output_type": "execute_result"
    }
   ],
   "source": [
    "# arange method\n",
    "np_arange = np.arange(12)\n",
    "np_arange"
   ]
  },
  {
   "cell_type": "code",
   "execution_count": 91,
   "id": "dd6dde9e",
   "metadata": {},
   "outputs": [
    {
     "data": {
      "text/plain": [
       "array([[ 0,  1,  2,  3],\n",
       "       [ 4,  5,  6,  7],\n",
       "       [ 8,  9, 10, 11]])"
      ]
     },
     "execution_count": 91,
     "metadata": {},
     "output_type": "execute_result"
    }
   ],
   "source": [
    "np_arange.reshape(3,4) #To reshape an array"
   ]
  },
  {
   "cell_type": "code",
   "execution_count": 92,
   "id": "320df9e7",
   "metadata": {},
   "outputs": [
    {
     "data": {
      "text/plain": [
       "array([1.  , 2.25, 3.5 , 4.75, 6.  ])"
      ]
     },
     "execution_count": 92,
     "metadata": {},
     "output_type": "execute_result"
    }
   ],
   "source": [
    "#linspace\n",
    "np_linspace = np.linspace(1,6,5) #np.linspace(start, end, no of evenly spaced elements)\n",
    "np_linspace"
   ]
  },
  {
   "cell_type": "code",
   "execution_count": 93,
   "id": "559c9741",
   "metadata": {},
   "outputs": [
    {
     "name": "stdout",
     "output_type": "stream",
     "text": [
      "[ 0  1  2  3  4  5  6  7  8  9 10 11 12 13 14]\n",
      "[[ 0  1  2  3  4]\n",
      " [ 5  6  7  8  9]\n",
      " [10 11 12 13 14]]\n",
      "[[[ 0  1  2]\n",
      "  [ 3  4  5]\n",
      "  [ 6  7  8]]\n",
      "\n",
      " [[ 9 10 11]\n",
      "  [12 13 14]\n",
      "  [15 16 17]]\n",
      "\n",
      " [[18 19 20]\n",
      "  [21 22 23]\n",
      "  [24 25 26]]]\n"
     ]
    }
   ],
   "source": [
    "# 1D, 2D and 3D arrays\n",
    "oneD = np.arange (15)\n",
    "print(oneD)\n",
    "twoD = oneD.reshape(3,5)\n",
    "print(twoD)\n",
    "threeD = np.arange(27).reshape(3,3,3)\n",
    "print(threeD)"
   ]
  },
  {
   "cell_type": "code",
   "execution_count": 94,
   "id": "84574947",
   "metadata": {},
   "outputs": [
    {
     "data": {
      "text/plain": [
       "1"
      ]
     },
     "execution_count": 94,
     "metadata": {},
     "output_type": "execute_result"
    }
   ],
   "source": [
    "#Ndim shows the dimension of the array\n",
    "city = np.array(['NYC','LA','Miami','Houston'])\n",
    "city.ndim"
   ]
  },
  {
   "cell_type": "code",
   "execution_count": 95,
   "id": "9979ae79",
   "metadata": {},
   "outputs": [
    {
     "data": {
      "text/plain": [
       "2"
      ]
     },
     "execution_count": 95,
     "metadata": {},
     "output_type": "execute_result"
    }
   ],
   "source": [
    "city_state = np.array([['NYC', 'LA','Miami','Houston'],['NY','CA','FL','TX']])\n",
    "city_state.ndim"
   ]
  },
  {
   "cell_type": "code",
   "execution_count": 96,
   "id": "19d24d7c",
   "metadata": {},
   "outputs": [
    {
     "data": {
      "text/plain": [
       "(4,)"
      ]
     },
     "execution_count": 96,
     "metadata": {},
     "output_type": "execute_result"
    }
   ],
   "source": [
    "#ndarray.shape\n",
    "city.shape"
   ]
  },
  {
   "cell_type": "code",
   "execution_count": 97,
   "id": "8374ac43",
   "metadata": {},
   "outputs": [
    {
     "data": {
      "text/plain": [
       "(2, 4)"
      ]
     },
     "execution_count": 97,
     "metadata": {},
     "output_type": "execute_result"
    }
   ],
   "source": [
    "city_state.shape"
   ]
  },
  {
   "cell_type": "code",
   "execution_count": 98,
   "id": "ad317635",
   "metadata": {},
   "outputs": [
    {
     "data": {
      "text/plain": [
       "4"
      ]
     },
     "execution_count": 98,
     "metadata": {},
     "output_type": "execute_result"
    }
   ],
   "source": [
    "#ndarray.size\n",
    "city.size"
   ]
  },
  {
   "cell_type": "code",
   "execution_count": 99,
   "id": "5e60d3fc",
   "metadata": {},
   "outputs": [
    {
     "data": {
      "text/plain": [
       "8"
      ]
     },
     "execution_count": 99,
     "metadata": {},
     "output_type": "execute_result"
    }
   ],
   "source": [
    "city_state.size"
   ]
  },
  {
   "cell_type": "code",
   "execution_count": 100,
   "id": "ba6d6248",
   "metadata": {},
   "outputs": [
    {
     "data": {
      "text/plain": [
       "dtype('<U7')"
      ]
     },
     "execution_count": 100,
     "metadata": {},
     "output_type": "execute_result"
    }
   ],
   "source": [
    "#ndarray.dtype\n",
    "city_state.dtype"
   ]
  },
  {
   "cell_type": "markdown",
   "id": "2a1eabc8",
   "metadata": {},
   "source": [
    "Basic Operations"
   ]
  },
  {
   "cell_type": "code",
   "execution_count": 101,
   "id": "b0cc6245",
   "metadata": {},
   "outputs": [
    {
     "data": {
      "text/plain": [
       "90"
      ]
     },
     "execution_count": 101,
     "metadata": {},
     "output_type": "execute_result"
    }
   ],
   "source": [
    "#addition\n",
    "np.add(40,50)"
   ]
  },
  {
   "cell_type": "code",
   "execution_count": 102,
   "id": "41e92e00",
   "metadata": {},
   "outputs": [
    {
     "data": {
      "text/plain": [
       "10"
      ]
     },
     "execution_count": 102,
     "metadata": {},
     "output_type": "execute_result"
    }
   ],
   "source": [
    "#Subtraction\n",
    "np.subtract(50,40)"
   ]
  },
  {
   "cell_type": "code",
   "execution_count": 103,
   "id": "b4ab7394",
   "metadata": {},
   "outputs": [
    {
     "name": "stdout",
     "output_type": "stream",
     "text": [
      "[105 150 135 165 225 180]\n"
     ]
    }
   ],
   "source": [
    "#ndarray multiplication\n",
    "hourly_wage =np.array([7,10,9,11,15,12])*15\n",
    "print(hourly_wage)"
   ]
  },
  {
   "cell_type": "code",
   "execution_count": 104,
   "id": "a0995aae",
   "metadata": {},
   "outputs": [
    {
     "data": {
      "text/plain": [
       "960"
      ]
     },
     "execution_count": 104,
     "metadata": {},
     "output_type": "execute_result"
    }
   ],
   "source": [
    "#total earings after 6 days\n",
    "sum(hourly_wage)"
   ]
  },
  {
   "cell_type": "markdown",
   "id": "ed44ffc0",
   "metadata": {},
   "source": [
    "Comparison Operators"
   ]
  },
  {
   "cell_type": "code",
   "execution_count": 105,
   "id": "9e603108",
   "metadata": {},
   "outputs": [
    {
     "data": {
      "text/plain": [
       "array([60, 67, 87, 93, 67, 88, 98, 89])"
      ]
     },
     "execution_count": 105,
     "metadata": {},
     "output_type": "execute_result"
    }
   ],
   "source": [
    "marks =np.array([60,67, 87, 93, 67, 75, 88, 98, 89])\n",
    "marks[marks!=75] #(<,>,==,!=)"
   ]
  },
  {
   "cell_type": "markdown",
   "id": "3b20ba12",
   "metadata": {},
   "source": [
    "Logical Operations"
   ]
  },
  {
   "cell_type": "code",
   "execution_count": 106,
   "id": "05e64f0e",
   "metadata": {},
   "outputs": [
    {
     "data": {
      "text/plain": [
       "array([False,  True,  True, False,  True,  True,  True, False,  True])"
      ]
     },
     "execution_count": 106,
     "metadata": {},
     "output_type": "execute_result"
    }
   ],
   "source": [
    "#np.logical_and (for more than one condition)\n",
    "np.logical_and(marks>65,marks<90)"
   ]
  },
  {
   "cell_type": "code",
   "execution_count": 107,
   "id": "a8d8b46d",
   "metadata": {},
   "outputs": [
    {
     "data": {
      "text/plain": [
       "array([ True,  True, False, False,  True, False, False, False, False])"
      ]
     },
     "execution_count": 107,
     "metadata": {},
     "output_type": "execute_result"
    }
   ],
   "source": [
    "#np.logical_not(for using conditions like not greater than, not less than,not equal to)\n",
    "np.logical_not(marks>=75)"
   ]
  },
  {
   "cell_type": "markdown",
   "id": "d6ef0089",
   "metadata": {},
   "source": [
    "Accessing Array elements (Indexing)"
   ]
  },
  {
   "cell_type": "code",
   "execution_count": 108,
   "id": "9f40a7f3",
   "metadata": {},
   "outputs": [
    {
     "name": "stdout",
     "output_type": "stream",
     "text": [
      "17\n",
      "[12 11 21 24]\n",
      "[[15 17]\n",
      " [11 21]]\n"
     ]
    }
   ],
   "source": [
    "cyclist_trials = np.array([[10,15,17, 26],[12,11,21,24]])\n",
    "first_trial = cyclist_trials[0][2]\n",
    "print(first_trial)\n",
    "second_trial = cyclist_trials[1]\n",
    "print(second_trial)\n",
    "two_cyclist_data =cyclist_trials[:,1:3]\n",
    "print(two_cyclist_data)"
   ]
  },
  {
   "cell_type": "code",
   "execution_count": 109,
   "id": "965e7183",
   "metadata": {},
   "outputs": [
    {
     "name": "stdout",
     "output_type": "stream",
     "text": [
      "[10 15 17 26]\n",
      "[20 30 34 52]\n",
      "[12 11 21 24]\n",
      "[24 22 42 48]\n"
     ]
    }
   ],
   "source": [
    "for iterate in cyclist_trials:\n",
    "    print(iterate)\n",
    "    new = iterate * 2\n",
    "    print(new)"
   ]
  },
  {
   "cell_type": "markdown",
   "id": "941f9eda",
   "metadata": {},
   "source": [
    "Indexing with Boolean Arrays"
   ]
  },
  {
   "cell_type": "code",
   "execution_count": 110,
   "id": "1e070b2a",
   "metadata": {},
   "outputs": [
    {
     "data": {
      "text/plain": [
       "array([[ True,  True, False,  True],\n",
       "       [False,  True,  True, False]])"
      ]
     },
     "execution_count": 110,
     "metadata": {},
     "output_type": "execute_result"
    }
   ],
   "source": [
    "scores = np.array([[83,71,57,63],[54,68,81,45]])\n",
    "passing_score = scores>60\n",
    "passing_score"
   ]
  },
  {
   "cell_type": "code",
   "execution_count": 111,
   "id": "56dde201",
   "metadata": {},
   "outputs": [
    {
     "data": {
      "text/plain": [
       "array([83, 71, 63, 68, 81])"
      ]
     },
     "execution_count": 111,
     "metadata": {},
     "output_type": "execute_result"
    }
   ],
   "source": [
    "scores[passing_score]"
   ]
  },
  {
   "cell_type": "markdown",
   "id": "7087dd72",
   "metadata": {},
   "source": [
    "Copy and Views"
   ]
  },
  {
   "cell_type": "code",
   "execution_count": 112,
   "id": "f29a000b",
   "metadata": {},
   "outputs": [
    {
     "data": {
      "text/plain": [
       "array(['Manhattan', 'Bronx', 'Brooklyn', 'Staten Island', 'Queens'],\n",
       "      dtype='<U13')"
      ]
     },
     "execution_count": 112,
     "metadata": {},
     "output_type": "execute_result"
    }
   ],
   "source": [
    "NYC_Borough = np.array(['Manhattan','Bronx','Brooklyn','Staten Island','Queens'])\n",
    "NYC_Borough"
   ]
  },
  {
   "cell_type": "code",
   "execution_count": 113,
   "id": "9c541b79",
   "metadata": {},
   "outputs": [
    {
     "data": {
      "text/plain": [
       "array(['Manhattan', 'Bronx', 'Brooklyn', 'Staten Island', 'Queens'],\n",
       "      dtype='<U13')"
      ]
     },
     "execution_count": 113,
     "metadata": {},
     "output_type": "execute_result"
    }
   ],
   "source": [
    "Borough_in_NYC = NYC_Borough\n",
    "Borough_in_NYC"
   ]
  },
  {
   "cell_type": "code",
   "execution_count": 114,
   "id": "a5e605b8",
   "metadata": {},
   "outputs": [
    {
     "data": {
      "text/plain": [
       "True"
      ]
     },
     "execution_count": 114,
     "metadata": {},
     "output_type": "execute_result"
    }
   ],
   "source": [
    "Borough_in_NYC is NYC_Borough"
   ]
  },
  {
   "cell_type": "code",
   "execution_count": 115,
   "id": "9c3e0773",
   "metadata": {},
   "outputs": [
    {
     "data": {
      "text/plain": [
       "array(['Manhattan', 'Bronx', 'Brooklyn', 'Staten Island', 'Queens'],\n",
       "      dtype='<U13')"
      ]
     },
     "execution_count": 115,
     "metadata": {},
     "output_type": "execute_result"
    }
   ],
   "source": [
    "view_of_Borough_in_NYC = Borough_in_NYC.view()\n",
    "view_of_Borough_in_NYC"
   ]
  },
  {
   "cell_type": "code",
   "execution_count": 116,
   "id": "637488d6",
   "metadata": {},
   "outputs": [
    {
     "data": {
      "text/plain": [
       "5"
      ]
     },
     "execution_count": 116,
     "metadata": {},
     "output_type": "execute_result"
    }
   ],
   "source": [
    "len(view_of_Borough_in_NYC)"
   ]
  },
  {
   "cell_type": "code",
   "execution_count": 117,
   "id": "87f302b7",
   "metadata": {},
   "outputs": [
    {
     "data": {
      "text/plain": [
       "array(['Manhattan', 'Bronx', 'Brooklyn', 'Staten Island', 'Central Park'],\n",
       "      dtype='<U13')"
      ]
     },
     "execution_count": 117,
     "metadata": {},
     "output_type": "execute_result"
    }
   ],
   "source": [
    "view_of_Borough_in_NYC[4]='Central Park' #Changing Value in view object changes the value in original Data Set\n",
    "view_of_Borough_in_NYC"
   ]
  },
  {
   "cell_type": "code",
   "execution_count": 118,
   "id": "f6a62715",
   "metadata": {},
   "outputs": [
    {
     "data": {
      "text/plain": [
       "array(['Manhattan', 'Bronx', 'Brooklyn', 'Staten Island', 'Central Park'],\n",
       "      dtype='<U13')"
      ]
     },
     "execution_count": 118,
     "metadata": {},
     "output_type": "execute_result"
    }
   ],
   "source": [
    "Borough_in_NYC"
   ]
  },
  {
   "cell_type": "code",
   "execution_count": 119,
   "id": "444df6ea",
   "metadata": {},
   "outputs": [
    {
     "data": {
      "text/plain": [
       "array(['Manhattan', 'Bronx', 'Brooklyn', 'Staten Island', 'Central Park'],\n",
       "      dtype='<U13')"
      ]
     },
     "execution_count": 119,
     "metadata": {},
     "output_type": "execute_result"
    }
   ],
   "source": [
    "copy_of_NYC_Borough = NYC_Borough.copy()\n",
    "copy_of_NYC_Borough"
   ]
  },
  {
   "cell_type": "code",
   "execution_count": 120,
   "id": "6450525f",
   "metadata": {},
   "outputs": [
    {
     "data": {
      "text/plain": [
       "False"
      ]
     },
     "execution_count": 120,
     "metadata": {},
     "output_type": "execute_result"
    }
   ],
   "source": [
    "copy_of_NYC_Borough is NYC_Borough \n",
    "#Even though copy is exactly same as original, the values is False as it is treated different."
   ]
  },
  {
   "cell_type": "code",
   "execution_count": 121,
   "id": "aa9f30a5",
   "metadata": {},
   "outputs": [
    {
     "data": {
      "text/plain": [
       "False"
      ]
     },
     "execution_count": 121,
     "metadata": {},
     "output_type": "execute_result"
    }
   ],
   "source": [
    "NYC_Borough.base is NYC_Borough\n",
    "#Shows 'copy' object data is not owned by the original Dataset"
   ]
  },
  {
   "cell_type": "code",
   "execution_count": 124,
   "id": "408d0aed",
   "metadata": {},
   "outputs": [
    {
     "data": {
      "text/plain": [
       "array(['Manhattan', 'Bronx', 'Brooklyn', 'Staten Island', 'Central Park'],\n",
       "      dtype='<U13')"
      ]
     },
     "execution_count": 124,
     "metadata": {},
     "output_type": "execute_result"
    }
   ],
   "source": [
    "copy_of_NYC_Borough[4] ='Central Park'\n",
    "copy_of_NYC_Borough"
   ]
  },
  {
   "cell_type": "markdown",
   "id": "9b14e73b",
   "metadata": {},
   "source": [
    "# Mathemathical Functions"
   ]
  },
  {
   "cell_type": "markdown",
   "id": "75fab881",
   "metadata": {},
   "source": [
    "NumPy provides useful mathematical functions, which are called Universal Functions.\\\n",
    "These functions operate element-wiseon an array, producing another array as output.\\\n",
    "Some of the functions are listed below:-\n",
    "\n",
    "sqrt functions provides the squareroot of every element in the array.\\\n",
    "cos function provides the cosine value for every element in the array.\\\n",
    "floor function returns the largest integer value of the every element in the array.\\\n",
    "exp function performs exponentiation on each element of the array."
   ]
  },
  {
   "cell_type": "code",
   "execution_count": 127,
   "id": "87eb01e7",
   "metadata": {},
   "outputs": [
    {
     "data": {
      "text/plain": [
       "array([1.        , 1.41421356, 1.73205081, 2.        , 2.23606798])"
      ]
     },
     "execution_count": 127,
     "metadata": {},
     "output_type": "execute_result"
    }
   ],
   "source": [
    "np_sqrt = np.sqrt([1,2,3,4,5])\n",
    "np_sqrt"
   ]
  },
  {
   "cell_type": "code",
   "execution_count": 128,
   "id": "ea806c73",
   "metadata": {},
   "outputs": [
    {
     "data": {
      "text/plain": [
       "0.28366218546322625"
      ]
     },
     "execution_count": 128,
     "metadata": {},
     "output_type": "execute_result"
    }
   ],
   "source": [
    "from numpy import pi\n",
    "np.cos(5)"
   ]
  },
  {
   "cell_type": "code",
   "execution_count": 130,
   "id": "a4a1c147",
   "metadata": {},
   "outputs": [
    {
     "data": {
      "text/plain": [
       "1.0"
      ]
     },
     "execution_count": 130,
     "metadata": {},
     "output_type": "execute_result"
    }
   ],
   "source": [
    "np.sin(pi/2)"
   ]
  },
  {
   "cell_type": "code",
   "execution_count": 131,
   "id": "6264f3dc",
   "metadata": {},
   "outputs": [
    {
     "data": {
      "text/plain": [
       "-1.0"
      ]
     },
     "execution_count": 131,
     "metadata": {},
     "output_type": "execute_result"
    }
   ],
   "source": [
    "np.cos(pi)"
   ]
  },
  {
   "cell_type": "code",
   "execution_count": 132,
   "id": "c1cf701c",
   "metadata": {},
   "outputs": [
    {
     "data": {
      "text/plain": [
       "array([1., 1., 2., 3., 4., 5., 6., 7.])"
      ]
     },
     "execution_count": 132,
     "metadata": {},
     "output_type": "execute_result"
    }
   ],
   "source": [
    "np.floor([1.5,1.6, 2.6, 3.5, 4.8, 5.0, 6.34, 7.4])\n"
   ]
  },
  {
   "cell_type": "code",
   "execution_count": 133,
   "id": "3e5a1b35",
   "metadata": {},
   "outputs": [
    {
     "data": {
      "text/plain": [
       "array([ 1.        ,  2.71828183, 20.08553692])"
      ]
     },
     "execution_count": 133,
     "metadata": {},
     "output_type": "execute_result"
    }
   ],
   "source": [
    "np.exp([0,1,3])"
   ]
  },
  {
   "cell_type": "markdown",
   "id": "560b98c8",
   "metadata": {},
   "source": [
    "Shape Manipulation.\\\n",
    "Certain following methods can be used to manipulate the shape of an array."
   ]
  },
  {
   "cell_type": "code",
   "execution_count": 135,
   "id": "0ea1aa0a",
   "metadata": {},
   "outputs": [],
   "source": [
    "new_cyclist_trials = np.array([[10,15,17,26,13,19],[12,11,21,24,14,23]])"
   ]
  },
  {
   "cell_type": "code",
   "execution_count": 136,
   "id": "12c50780",
   "metadata": {},
   "outputs": [
    {
     "data": {
      "text/plain": [
       "array([10, 15, 17, 26, 13, 19, 12, 11, 21, 24, 14, 23])"
      ]
     },
     "execution_count": 136,
     "metadata": {},
     "output_type": "execute_result"
    }
   ],
   "source": [
    "new_cyclist_trials.ravel()\n",
    "#ravel function joins the multi dimention array into one single dimentions array. Flattens the Dataset"
   ]
  },
  {
   "cell_type": "code",
   "execution_count": 144,
   "id": "1bbeeda6",
   "metadata": {},
   "outputs": [
    {
     "data": {
      "text/plain": [
       "array([[[10, 15],\n",
       "        [17, 26]],\n",
       "\n",
       "       [[13, 19],\n",
       "        [12, 11]],\n",
       "\n",
       "       [[21, 24],\n",
       "        [14, 23]]])"
      ]
     },
     "execution_count": 144,
     "metadata": {},
     "output_type": "execute_result"
    }
   ],
   "source": [
    "new_cyclist_trials.reshape(3,2,2)\n",
    "#reshape functions reshapes array into specified array type.Changes the shape of the dataset"
   ]
  },
  {
   "cell_type": "code",
   "execution_count": 151,
   "id": "5c321f30",
   "metadata": {},
   "outputs": [
    {
     "data": {
      "text/plain": [
       "array([[10, 15, 17, 26, 13, 19],\n",
       "       [12, 11, 21, 24, 14, 23]])"
      ]
     },
     "execution_count": 151,
     "metadata": {},
     "output_type": "execute_result"
    }
   ],
   "source": [
    "new_cyclist_trials.resize(2,6)\n",
    "new_cyclist_trials \n",
    "#Resizes the Data set"
   ]
  },
  {
   "cell_type": "code",
   "execution_count": 160,
   "id": "2615b68e",
   "metadata": {},
   "outputs": [
    {
     "data": {
      "text/plain": [
       "[array([[10, 15, 17],\n",
       "        [12, 11, 21]]),\n",
       " array([[26, 13, 19],\n",
       "        [24, 14, 23]])]"
      ]
     },
     "execution_count": 160,
     "metadata": {},
     "output_type": "execute_result"
    }
   ],
   "source": [
    "np.hsplit(new_cyclist_trials,2)\n",
    "#splits the array into specified nomber of arrays, in the case its 2"
   ]
  },
  {
   "cell_type": "code",
   "execution_count": 161,
   "id": "869c196b",
   "metadata": {},
   "outputs": [
    {
     "name": "stdout",
     "output_type": "stream",
     "text": [
      "cyclist_1 =  [10 15 17 26 13 19]\n",
      "cyclist_2 = [12 11 21 24 14 23]\n"
     ]
    }
   ],
   "source": [
    "new_cyclist_trials = np.array([[10,15,17,26,13,19],[12,11,21,24,14,23]])\n",
    "cyclist_1 = new_cyclist_trials[0]\n",
    "cyclist_2 =new_cyclist_trials[1]\n",
    "print('cyclist_1 = ',cyclist_1)\n",
    "print('cyclist_2 =', cyclist_2)"
   ]
  },
  {
   "cell_type": "code",
   "execution_count": 162,
   "id": "9f2cd5b0",
   "metadata": {},
   "outputs": [
    {
     "data": {
      "text/plain": [
       "array([10, 15, 17, 26, 13, 19, 12, 11, 21, 24, 14, 23])"
      ]
     },
     "execution_count": 162,
     "metadata": {},
     "output_type": "execute_result"
    }
   ],
   "source": [
    "np.hstack((cyclist_1,cyclist_2))\n",
    "#Stacks multiple arrays together."
   ]
  },
  {
   "cell_type": "markdown",
   "id": "d750e8b3",
   "metadata": {},
   "source": [
    "# Broadcasting.\n",
    "Numpy used Broadcasting to carry out Arithmetic operations between arrays of different shapes.\\\n",
    "In this method NumPy automatically broadcasts the smaller array over the larger array."
   ]
  },
  {
   "cell_type": "code",
   "execution_count": 163,
   "id": "531307f5",
   "metadata": {},
   "outputs": [
    {
     "data": {
      "text/plain": [
       "array([0.6, 0.9, 2. , 3. ])"
      ]
     },
     "execution_count": 163,
     "metadata": {},
     "output_type": "execute_result"
    }
   ],
   "source": [
    "#Creating arrays of same shape\n",
    "a = np.array([2,3,4,5])\n",
    "b = np.array([.3,.3,.5,.6])\n",
    "a*b"
   ]
  },
  {
   "cell_type": "code",
   "execution_count": 164,
   "id": "4becb5ae",
   "metadata": {},
   "outputs": [
    {
     "data": {
      "text/plain": [
       "array([0.4, 0.6, 0.8, 1. ])"
      ]
     },
     "execution_count": 164,
     "metadata": {},
     "output_type": "execute_result"
    }
   ],
   "source": [
    "# a and c are of different shapes, so broadcasting multiplies the entire array a with the scalar c\n",
    "c = .2\n",
    "a*c"
   ]
  },
  {
   "cell_type": "markdown",
   "id": "b09897b8",
   "metadata": {},
   "source": [
    "Broadcasting has its own limitations.\\\n",
    "Though broadcasting can help carry out mathematical operation between different shaped arrays, it is subject to certain constraints as listed below:\\\n",
    "When NumPy operates on two arrays, it compares theier shapes elementwise, It finds these shapes compatible only if :\\\n",
    "Their dimensions are same, or \\\n",
    "One of then has a dimension of 1"
   ]
  },
  {
   "cell_type": "code",
   "execution_count": 165,
   "id": "29d72ace",
   "metadata": {},
   "outputs": [
    {
     "data": {
      "text/plain": [
       "array([228, 291, 425, 320, 312])"
      ]
     },
     "execution_count": 165,
     "metadata": {},
     "output_type": "execute_result"
    }
   ],
   "source": [
    "week_1 = np.array([105,135,195,120,165])\n",
    "week_2 = np.array([123,156,230,200,147])\n",
    "total_earnings = week_1 + week_2  #Element wise operation\n",
    "total_earnings  #Total Earnings for 2 weeks."
   ]
  },
  {
   "cell_type": "code",
   "execution_count": 168,
   "id": "f5f7aed2",
   "metadata": {},
   "outputs": [
    {
     "data": {
      "text/plain": [
       "array([ 7.,  9., 13.,  8., 11.])"
      ]
     },
     "execution_count": 168,
     "metadata": {},
     "output_type": "execute_result"
    }
   ],
   "source": [
    "week_1_hrs = week_1/15 #15 is the rate per hour\n",
    "week_1_hrs  #1st week working hours"
   ]
  },
  {
   "cell_type": "markdown",
   "id": "6ec7f7f6",
   "metadata": {},
   "source": [
    "Linera Algebra - Transpose.\\\n",
    "NumPy can carry out Linear Algebric functions as well.\\\n",
    "The 'transpose()' function can help you interchange rows and columns, and vice-versa"
   ]
  },
  {
   "cell_type": "code",
   "execution_count": 169,
   "id": "4d10d76f",
   "metadata": {},
   "outputs": [
    {
     "data": {
      "text/plain": [
       "array([[83, 71, 57, 63],\n",
       "       [54, 68, 81, 45]])"
      ]
     },
     "execution_count": 169,
     "metadata": {},
     "output_type": "execute_result"
    }
   ],
   "source": [
    "test_scores = np.array([[83,71,57,63],[54,68,81,45]])\n",
    "test_scores"
   ]
  },
  {
   "cell_type": "code",
   "execution_count": 171,
   "id": "c80a00e6",
   "metadata": {},
   "outputs": [
    {
     "data": {
      "text/plain": [
       "array([[83, 54],\n",
       "       [71, 68],\n",
       "       [57, 81],\n",
       "       [63, 45]])"
      ]
     },
     "execution_count": 171,
     "metadata": {},
     "output_type": "execute_result"
    }
   ],
   "source": [
    "test_scores.transpose()"
   ]
  },
  {
   "cell_type": "markdown",
   "id": "b6b185a1",
   "metadata": {},
   "source": [
    "Inverse and Trace functions.\\\n",
    "*np.linalg.inv()* \\\n",
    "Using NumPy, you can also findthe inverse of an array and add its diagonal data elements.\\\n",
    "Inverse function can only be applied to square matrix.\\\n",
    "*np.trace()* \\\n",
    "Trace function helps you perform sumon the diagonal elements in the array. \\\n",
    "trace() function is only used for diagonals.\n",
    "Its an incremental order and applied only from left to right and not vice-versa."
   ]
  },
  {
   "cell_type": "code",
   "execution_count": 173,
   "id": "31acdc05",
   "metadata": {},
   "outputs": [
    {
     "data": {
      "text/plain": [
       "array([[-0.5,  0.4],\n",
       "       [ 0.3, -0.2]])"
      ]
     },
     "execution_count": 173,
     "metadata": {},
     "output_type": "execute_result"
    }
   ],
   "source": [
    "inverse_array = np.array([[10,20],[15,25]])\n",
    "np.linalg.inv(inverse_array)"
   ]
  },
  {
   "cell_type": "code",
   "execution_count": 174,
   "id": "45d0987a",
   "metadata": {},
   "outputs": [
    {
     "data": {
      "text/plain": [
       "35"
      ]
     },
     "execution_count": 174,
     "metadata": {},
     "output_type": "execute_result"
    }
   ],
   "source": [
    "trace_array = np.array([[10,20],[15,25]])\n",
    "np.trace(trace_array)"
   ]
  },
  {
   "cell_type": "code",
   "execution_count": null,
   "id": "71739613",
   "metadata": {},
   "outputs": [],
   "source": []
  }
 ],
 "metadata": {
  "kernelspec": {
   "display_name": "Python 3",
   "language": "python",
   "name": "python3"
  },
  "language_info": {
   "codemirror_mode": {
    "name": "ipython",
    "version": 3
   },
   "file_extension": ".py",
   "mimetype": "text/x-python",
   "name": "python",
   "nbconvert_exporter": "python",
   "pygments_lexer": "ipython3",
   "version": "3.8.8"
  }
 },
 "nbformat": 4,
 "nbformat_minor": 5
}
